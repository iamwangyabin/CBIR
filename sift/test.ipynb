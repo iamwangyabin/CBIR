{
 "cells": [
  {
   "cell_type": "code",
   "execution_count": null,
   "metadata": {},
   "outputs": [],
   "source": [
    "from PIL import Image\n",
    "import os\n",
    "import numpy as np\n",
    "import matplotlib.pyplot as plt\n",
    "\n",
    "\n",
    "def read_features_from_file(filename):\n",
    "    f=np.loadtxt(filename)\n",
    "    return f[:,:4],f[:,4:]\n",
    "\n",
    "def plot_features(im,locs,circle=False):\n",
    "    def draw_circle(c,r):\n",
    "        t=np.arange(0,1.01,.01)*2*np.pi\n",
    "        x=r*np.cos(t)+c[0]\n",
    "        y=r*np.sin(t)+c[1]\n",
    "        plt.plot(x,y,'b',linewidth=2)\n",
    "        plt.imshow(im)\n",
    "    if circle:\n",
    "        for p in locs:\n",
    "            draw_circle(p[:2],p[2])\n",
    "    else:\n",
    "        plt.plot(locs[:,0],locs[:,1],'ob')\n",
    "    plt.axis('off')\n",
    "\n",
    "\n",
    "os.chdir('sift')\n",
    "imname='timg.jpg'\n",
    "im=np.array(Image.open(imname).convert('L'))\n",
    "\n",
    "l1,l2=read_features_from_file('timg.sift')\n",
    "plt.figure()\n",
    "plt.gray()\n",
    "plot_features(im,l1,circle=True)\n",
    "plt.show()"
   ]
  },
  {
   "cell_type": "code",
   "execution_count": 2,
   "metadata": {},
   "outputs": [],
   "source": [
    "from PIL import Image\n",
    "import os\n",
    "import numpy as np\n",
    "import matplotlib.pyplot as plt"
   ]
  },
  {
   "cell_type": "code",
   "execution_count": 4,
   "metadata": {},
   "outputs": [],
   "source": [
    "imname='timg.jpg'\n",
    "im=np.array(Image.open(imname).convert('L'))"
   ]
  },
  {
   "cell_type": "code",
   "execution_count": null,
   "metadata": {},
   "outputs": [],
   "source": [
    "def read_features_from_file(filename):\n",
    "    f=np.loadtxt(filename)\n",
    "    print(\"a\")\n",
    "    return f[:,:4],f[:,4:]"
   ]
  },
  {
   "cell_type": "code",
   "execution_count": null,
   "metadata": {},
   "outputs": [],
   "source": [
    "l1,l2=read_features_from_file('timg.sift')"
   ]
  },
  {
   "cell_type": "code",
   "execution_count": null,
   "metadata": {},
   "outputs": [],
   "source": [
    "f=np.loadtxt('timg.sift')"
   ]
  },
  {
   "cell_type": "code",
   "execution_count": null,
   "metadata": {},
   "outputs": [],
   "source": [
    "f"
   ]
  },
  {
   "cell_type": "code",
   "execution_count": null,
   "metadata": {},
   "outputs": [],
   "source": []
  }
 ],
 "metadata": {
  "kernelspec": {
   "display_name": "Python 3",
   "language": "python",
   "name": "python3"
  },
  "language_info": {
   "codemirror_mode": {
    "name": "ipython",
    "version": 3
   },
   "file_extension": ".py",
   "mimetype": "text/x-python",
   "name": "python",
   "nbconvert_exporter": "python",
   "pygments_lexer": "ipython3",
   "version": "3.7.1"
  }
 },
 "nbformat": 4,
 "nbformat_minor": 1
}
